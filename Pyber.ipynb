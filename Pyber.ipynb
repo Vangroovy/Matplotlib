{
 "cells": [
  {
   "cell_type": "code",
   "execution_count": 1,
   "metadata": {},
   "outputs": [
    {
     "data": {
      "text/html": [
       "<div>\n",
       "<style scoped>\n",
       "    .dataframe tbody tr th:only-of-type {\n",
       "        vertical-align: middle;\n",
       "    }\n",
       "\n",
       "    .dataframe tbody tr th {\n",
       "        vertical-align: top;\n",
       "    }\n",
       "\n",
       "    .dataframe thead th {\n",
       "        text-align: right;\n",
       "    }\n",
       "</style>\n",
       "<table border=\"1\" class=\"dataframe\">\n",
       "  <thead>\n",
       "    <tr style=\"text-align: right;\">\n",
       "      <th></th>\n",
       "      <th>city</th>\n",
       "      <th>average fare</th>\n",
       "      <th>total rides by city</th>\n",
       "      <th>driver_count</th>\n",
       "      <th>type</th>\n",
       "    </tr>\n",
       "  </thead>\n",
       "  <tbody>\n",
       "    <tr>\n",
       "      <th>0</th>\n",
       "      <td>Amandaburgh</td>\n",
       "      <td>24.641667</td>\n",
       "      <td>18</td>\n",
       "      <td>12</td>\n",
       "      <td>Urban</td>\n",
       "    </tr>\n",
       "    <tr>\n",
       "      <th>1</th>\n",
       "      <td>Barajasview</td>\n",
       "      <td>25.332273</td>\n",
       "      <td>22</td>\n",
       "      <td>26</td>\n",
       "      <td>Urban</td>\n",
       "    </tr>\n",
       "    <tr>\n",
       "      <th>2</th>\n",
       "      <td>Barronchester</td>\n",
       "      <td>36.422500</td>\n",
       "      <td>16</td>\n",
       "      <td>11</td>\n",
       "      <td>Suburban</td>\n",
       "    </tr>\n",
       "    <tr>\n",
       "      <th>3</th>\n",
       "      <td>Bethanyland</td>\n",
       "      <td>32.956111</td>\n",
       "      <td>18</td>\n",
       "      <td>22</td>\n",
       "      <td>Suburban</td>\n",
       "    </tr>\n",
       "    <tr>\n",
       "      <th>4</th>\n",
       "      <td>Bradshawfurt</td>\n",
       "      <td>40.064000</td>\n",
       "      <td>10</td>\n",
       "      <td>7</td>\n",
       "      <td>Rural</td>\n",
       "    </tr>\n",
       "  </tbody>\n",
       "</table>\n",
       "</div>"
      ],
      "text/plain": [
       "            city  average fare  total rides by city  driver_count      type\n",
       "0    Amandaburgh     24.641667                   18            12     Urban\n",
       "1    Barajasview     25.332273                   22            26     Urban\n",
       "2  Barronchester     36.422500                   16            11  Suburban\n",
       "3    Bethanyland     32.956111                   18            22  Suburban\n",
       "4   Bradshawfurt     40.064000                   10             7     Rural"
      ]
     },
     "execution_count": 1,
     "metadata": {},
     "output_type": "execute_result"
    }
   ],
   "source": [
    "# Dependencies and Setup\n",
    "%matplotlib inline\n",
    "import pandas as pd\n",
    "import numpy as np\n",
    "import matplotlib.pyplot as plt\n",
    "import matplotlib.cm as cm\n",
    "\n",
    "# File to Load \n",
    "ride_data_to_load = \"data/ride_data.csv\"\n",
    "city_data_to_load = \"data/city_data.csv\"\n",
    "\n",
    "# Read the files and store into Pandas data frame\n",
    "ride_data_df = pd.read_csv(ride_data_to_load)\n",
    "city_data_df = pd.read_csv(city_data_to_load)\n",
    "\n",
    "#Summarize the average fare by city\n",
    "city_data_summary = ride_data_df[['city', 'fare']]\n",
    "#city_data_summary.head()\n",
    "fare_by_city= city_data_summary.groupby(['city'])['fare'].mean()\n",
    "rides_by_city = city_data_summary.groupby(['city'])['fare'].count()\n",
    "#rides_by_city.head(100)\n",
    "city_summary = pd.DataFrame({'average fare':fare_by_city, \"total rides by city\":rides_by_city})\n",
    "#city_summary.head()\n",
    "\n",
    "#Combine the data into a single dataset\n",
    "ride_share_data= pd.merge(city_summary, city_data_df, how='outer', on='city')\n",
    "ride_share_data.head()\n"
   ]
  },
  {
   "cell_type": "code",
   "execution_count": 2,
   "metadata": {},
   "outputs": [
    {
     "name": "stderr",
     "output_type": "stream",
     "text": [
      "/Applications/anaconda3/lib/python3.7/site-packages/ipykernel_launcher.py:15: DeprecationWarning: \n",
      ".ix is deprecated. Please use\n",
      ".loc for label based indexing or\n",
      ".iloc for positional indexing\n",
      "\n",
      "See the documentation here:\n",
      "http://pandas.pydata.org/pandas-docs/stable/indexing.html#ix-indexer-is-deprecated\n",
      "  from ipykernel import kernelapp as app\n"
     ]
    },
    {
     "data": {
      "image/png": "[encoded data removed]",
      "text/plain": [
       "<Figure size 720x360 with 1 Axes>"
      ]
     },
     "metadata": {
      "needs_background": "light"
     },
     "output_type": "display_data"
    }
   ],
   "source": [
    "#Obtain the x and y coordinates for each of the three city types\n",
    "\n",
    "#redefine the type to color\n",
    "\n",
    "\n",
    "def scatterplot(ride_share_data,x=ride_share_data['total rides by city'], y=ride_share_data['average fare']):\n",
    "    \n",
    "    fig, ax = plt.subplots(figsize=(10,5))\n",
    "    \n",
    "    #assign the color to each data point\n",
    "    colors = ['gold', 'lightskyblue', 'lightcoral']\n",
    "    \n",
    "    #iterate through the dataset plotting each data point and assinging it to the corresponding color\n",
    "    for i in range (len(ride_share_data)):\n",
    "        ax.scatter(x.ix[i],y.ix[i], alpha=0.70, color=colors[i%len(colors)])\n",
    "    \n",
    "    #add labels\n",
    "    plt.title('Pybar Ride sharing Data (2016)')\n",
    "    plt.xlabel('Total Number of Rides (per city)')\n",
    "    plt.ylabel('Average Fare ($)')\n",
    "    \n",
    "    #add gridlines\n",
    "    ax.grid(color='grey', linestyle='-', linewidth = 0.25, alpha = 0.5)\n",
    "    \n",
    "    #add legend\n",
    "    plt.legend\n",
    "\n",
    "    plt.show()\n",
    "\n",
    "scatterplot(ride_share_data,x=ride_share_data['total rides by city'], y=ride_share_data['average fare'])\n"
   ]
  },
  {
   "cell_type": "code",
   "execution_count": 62,
   "metadata": {},
   "outputs": [
    {
     "data": {
      "text/html": [
       "<div>\n",
       "<style scoped>\n",
       "    .dataframe tbody tr th:only-of-type {\n",
       "        vertical-align: middle;\n",
       "    }\n",
       "\n",
       "    .dataframe tbody tr th {\n",
       "        vertical-align: top;\n",
       "    }\n",
       "\n",
       "    .dataframe thead th {\n",
       "        text-align: right;\n",
       "    }\n",
       "</style>\n",
       "<table border=\"1\" class=\"dataframe\">\n",
       "  <thead>\n",
       "    <tr style=\"text-align: right;\">\n",
       "      <th></th>\n",
       "      <th>average fare</th>\n",
       "      <th>total rides by city</th>\n",
       "      <th>driver_count</th>\n",
       "    </tr>\n",
       "    <tr>\n",
       "      <th>type</th>\n",
       "      <th></th>\n",
       "      <th></th>\n",
       "      <th></th>\n",
       "    </tr>\n",
       "  </thead>\n",
       "  <tbody>\n",
       "    <tr>\n",
       "      <th>Rural</th>\n",
       "      <td>623.479771</td>\n",
       "      <td>125</td>\n",
       "      <td>78</td>\n",
       "    </tr>\n",
       "    <tr>\n",
       "      <th>Suburban</th>\n",
       "      <td>1106.542729</td>\n",
       "      <td>625</td>\n",
       "      <td>490</td>\n",
       "    </tr>\n",
       "    <tr>\n",
       "      <th>Urban</th>\n",
       "      <td>1616.942033</td>\n",
       "      <td>1625</td>\n",
       "      <td>2405</td>\n",
       "    </tr>\n",
       "  </tbody>\n",
       "</table>\n",
       "</div>"
      ],
      "text/plain": [
       "          average fare  total rides by city  driver_count\n",
       "type                                                     \n",
       "Rural       623.479771                  125            78\n",
       "Suburban   1106.542729                  625           490\n",
       "Urban      1616.942033                 1625          2405"
      ]
     },
     "execution_count": 62,
     "metadata": {},
     "output_type": "execute_result"
    }
   ],
   "source": [
    "#Total Rides by City Type\n",
    "#Calculate total ride by city type\n",
    "sum_rides_type = ride_share_data.groupby([\"type\"]).sum()\n",
    "\n",
    "#Place the city types into a list\n",
    "sum_rides_type.head()\n"
   ]
  },
  {
   "cell_type": "code",
   "execution_count": 74,
   "metadata": {},
   "outputs": [
    {
     "data": {
      "image/png": "[encoded data removed]",
      "text/plain": [
       "<Figure size 432x288 with 1 Axes>"
      ]
     },
     "metadata": {},
     "output_type": "display_data"
    }
   ],
   "source": [
    "# Tells matplotlib to seperate the \"Urban\" section from the others\n",
    "explode = (0, 0, 0.05)\n",
    "\n",
    "#assign the color to each data point and assign the label\n",
    "colors = ['gold', 'lightskyblue', 'lightcoral']\n",
    "labels = ['Rural', 'Suburban', 'Urban']\n",
    "\n",
    "#Build Pie Chart\n",
    "plt.pie(sum_rides_type['total rides by city'],explode=explode, labels=labels, \n",
    "           colors=colors, autopct=\"%1.1f%%\",startangle=145)\n",
    "plt.show()"
   ]
  },
  {
   "cell_type": "code",
   "execution_count": null,
   "metadata": {},
   "outputs": [],
   "source": [
    "#Total Drivers by City Type"
   ]
  }
 ],
 "metadata": {
  "kernelspec": {
   "display_name": "Python 3",
   "language": "python",
   "name": "python3"
  },
  "language_info": {
   "codemirror_mode": {
    "name": "ipython",
    "version": 3
   },
   "file_extension": ".py",
   "mimetype": "text/x-python",
   "name": "python",
   "nbconvert_exporter": "python",
   "pygments_lexer": "ipython3",
   "version": "3.7.1"
  }
 },
 "nbformat": 4,
 "nbformat_minor": 2
}
